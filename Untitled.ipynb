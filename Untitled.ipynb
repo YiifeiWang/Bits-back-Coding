{
 "cells": [
  {
   "cell_type": "code",
   "execution_count": 3,
   "id": "0a410c1f",
   "metadata": {},
   "outputs": [],
   "source": [
    "from multiset import Multiset\n",
    "import compressors.rANS as rANS"
   ]
  },
  {
   "cell_type": "code",
   "execution_count": 4,
   "id": "777a233d",
   "metadata": {},
   "outputs": [],
   "source": [
    "freqs_list = [\n",
    "    Frequencies({\"A\": 1, \"B\": 1, \"C\": 2}),\n",
    "    Frequencies({\"A\": 12, \"B\": 34, \"C\": 1, \"D\": 45}),\n",
    "    Frequencies({\"A\": 34, \"B\": 35, \"C\": 546, \"D\": 1, \"E\": 13, \"F\": 245}),\n",
    "    Frequencies({\"A\": 5, \"B\": 5, \"C\": 5, \"D\": 5, \"E\": 5, \"F\": 5}),\n",
    "    Frequencies({\"A\": 1, \"B\": 3}),\n",
    "]\n",
    "params_list = [\n",
    "    rANSParams(freqs_list[0]),\n",
    "    rANSParams(freqs_list[1]),\n",
    "    rANSParams(freqs_list[2], NUM_BITS_OUT=8),\n",
    "    rANSParams(freqs_list[3], RANGE_FACTOR=1 << 12),\n",
    "    rANSParams(freqs_list[4], RANGE_FACTOR=1 << 4),\n",
    "]"
   ]
  },
  {
   "cell_type": "code",
   "execution_count": 5,
   "id": "a362b7d5",
   "metadata": {},
   "outputs": [
    {
     "name": "stdout",
     "output_type": "stream",
     "text": [
      "rANS coding: avg_log_prob=1.499, rANS codelen: 1.504\n",
      "rANS coding: avg_log_prob=1.484, rANS codelen: 1.489\n",
      "rANS coding: avg_log_prob=1.430, rANS codelen: 1.435\n",
      "rANS coding: avg_log_prob=2.585, rANS codelen: 2.590\n",
      "rANS coding: avg_log_prob=0.815, rANS codelen: 0.819\n"
     ]
    }
   ],
   "source": [
    "# generate random data and test if coding is lossless\n",
    "DATA_SIZE = 10000\n",
    "SEED = 0\n",
    "for freq, rans_params in zip(freqs_list, params_list):\n",
    "    # generate random data\n",
    "    prob_dist = freq.get_prob_dist()\n",
    "    data_block = get_random_data_block(prob_dist, DATA_SIZE, seed=SEED)\n",
    "    avg_log_prob = get_avg_neg_log_prob(prob_dist, data_block)\n",
    "\n",
    "    # create encoder decoder\n",
    "    encoder = rANS.rANSEncoder(rans_params)\n",
    "    decoder = rANS.rANSDecoder(rans_params)\n",
    "\n",
    "    # test lossless coding\n",
    "    is_lossless, encode_len, _ = try_lossless_compression(\n",
    "        data_block, encoder, decoder, add_extra_bits_to_encoder_output=True\n",
    "    )\n",
    "    assert is_lossless\n",
    "    # avg codelen ignoring the bits used to signal num data elements\n",
    "    avg_codelen = encode_len / data_block.size\n",
    "    print(f\"rANS coding: avg_log_prob={avg_log_prob:.3f}, rANS codelen: {avg_codelen:.3f}\")\n"
   ]
  },
  {
   "cell_type": "code",
   "execution_count": null,
   "id": "2e580771",
   "metadata": {},
   "outputs": [],
   "source": []
  }
 ],
 "metadata": {
  "kernelspec": {
   "display_name": "Python 3 (ipykernel)",
   "language": "python",
   "name": "python3"
  },
  "language_info": {
   "codemirror_mode": {
    "name": "ipython",
    "version": 3
   },
   "file_extension": ".py",
   "mimetype": "text/x-python",
   "name": "python",
   "nbconvert_exporter": "python",
   "pygments_lexer": "ipython3",
   "version": "3.8.13"
  }
 },
 "nbformat": 4,
 "nbformat_minor": 5
}
