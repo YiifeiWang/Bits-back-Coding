{
 "cells": [
  {
   "cell_type": "code",
   "execution_count": 5,
   "id": "0a410c1f",
   "metadata": {},
   "outputs": [
    {
     "ename": "ModuleNotFoundError",
     "evalue": "No module named 'compressor'",
     "output_type": "error",
     "traceback": [
      "\u001b[0;31m---------------------------------------------------------------------------\u001b[0m",
      "\u001b[0;31mModuleNotFoundError\u001b[0m                       Traceback (most recent call last)",
      "Cell \u001b[0;32mIn [5], line 2\u001b[0m\n\u001b[1;32m      1\u001b[0m \u001b[38;5;28;01mfrom\u001b[39;00m \u001b[38;5;21;01mmultiset\u001b[39;00m \u001b[38;5;28;01mimport\u001b[39;00m Multiset\n\u001b[0;32m----> 2\u001b[0m \u001b[38;5;28;01mfrom\u001b[39;00m \u001b[38;5;21;01mcompressor\u001b[39;00m\u001b[38;5;21;01m.\u001b[39;00m\u001b[38;5;21;01mrANS\u001b[39;00m \u001b[38;5;28;01mimport\u001b[39;00m \u001b[38;5;241m*\u001b[39m\n",
      "\u001b[0;31mModuleNotFoundError\u001b[0m: No module named 'compressor'"
     ]
    }
   ],
   "source": [
    "from multiset import Multiset\n",
    "from compressor.rANS import *"
   ]
  },
  {
   "cell_type": "code",
   "execution_count": 4,
   "id": "777a233d",
   "metadata": {},
   "outputs": [],
   "source": [
    "freqs_list = [\n",
    "    Frequencies({\"A\": 1, \"B\": 1, \"C\": 2}),\n",
    "    Frequencies({\"A\": 12, \"B\": 34, \"C\": 1, \"D\": 45}),\n",
    "    Frequencies({\"A\": 34, \"B\": 35, \"C\": 546, \"D\": 1, \"E\": 13, \"F\": 245}),\n",
    "    Frequencies({\"A\": 5, \"B\": 5, \"C\": 5, \"D\": 5, \"E\": 5, \"F\": 5}),\n",
    "    Frequencies({\"A\": 1, \"B\": 3}),\n",
    "]\n",
    "params_list = [\n",
    "    rANSParams(freqs_list[0]),\n",
    "    rANSParams(freqs_list[1]),\n",
    "    rANSParams(freqs_list[2], NUM_BITS_OUT=8),\n",
    "    rANSParams(freqs_list[3], RANGE_FACTOR=1 << 12),\n",
    "    rANSParams(freqs_list[4], RANGE_FACTOR=1 << 4),\n",
    "]"
   ]
  },
  {
   "cell_type": "code",
   "execution_count": null,
   "id": "a362b7d5",
   "metadata": {},
   "outputs": [],
   "source": []
  }
 ],
 "metadata": {
  "kernelspec": {
   "display_name": "Python 3 (ipykernel)",
   "language": "python",
   "name": "python3"
  },
  "language_info": {
   "codemirror_mode": {
    "name": "ipython",
    "version": 3
   },
   "file_extension": ".py",
   "mimetype": "text/x-python",
   "name": "python",
   "nbconvert_exporter": "python",
   "pygments_lexer": "ipython3",
   "version": "3.8.13"
  }
 },
 "nbformat": 4,
 "nbformat_minor": 5
}
